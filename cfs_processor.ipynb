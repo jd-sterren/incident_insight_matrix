{
 "cells": [
  {
   "cell_type": "code",
   "execution_count": null,
   "id": "90848f48",
   "metadata": {},
   "outputs": [],
   "source": [
    "import os\n",
    "import pandas as pd\n",
    "import inc.functions as fn\n",
    "from inc.credential_manager import inject_decrypted_env, get_passphrase  # << New import\n",
    "\n",
    "# Obtain the passphrase from hidden file or user input\n",
    "passphrase = get_passphrase()\n",
    "\n",
    "# Inject decrypted environment variables\n",
    "inject_decrypted_env(environment=\"prod\", passphrase=passphrase)"
   ]
  },
  {
   "cell_type": "code",
   "execution_count": null,
   "id": "2c7dd4b5",
   "metadata": {},
   "outputs": [],
   "source": [
    "cfs_df = fn.fetch_calls_for_service(ori=\"OH0760400\", start_date=fn.last_week(\"str\"), end_date=fn.yesterday(\"str\"), data_type=\"Stats\")"
   ]
  },
  {
   "cell_type": "code",
   "execution_count": null,
   "id": "6d6140c3",
   "metadata": {},
   "outputs": [],
   "source": [
    "# Loads the daily summary of calltypes to ORI and Date\n",
    "df_summary = fn.load_summary_data()\n",
    "\n",
    "# Load and merge reportable call types\n",
    "cfs_types = pd.read_excel(\"resources/cfs/lib_call_types.xlsx\", usecols=[\"CallType\",\"Reportable\",\"CodeType\"])\n",
    "df_summary = df_summary.merge(cfs_types, on=\"CallType\", how=\"left\")\n",
    "\n",
    "# analyze the data and cluster by call type\n",
    "traffic_stops = df_summary.loc[df_summary['CallType'] == 'Traffic Stop'].copy()\n",
    "shots_fired = df_summary.loc[df_summary['CallType'] == 'Shots Fired'].copy()\n",
    "accidents = df_summary.loc[df_summary['CallType'].str.contains('Accident')].copy()\n",
    "past_10_weeks = fn.compute_total_cfs_past_10_weeks(df_summary).copy()\n",
    "\n",
    "ytd_cfs = fn.compute_total_cfs_ytd(df_summary)\n",
    "ytd_traffic_stops = fn.compute_total_cfs_ytd(traffic_stops)\n",
    "ytd_shots_fired = fn.compute_total_cfs_ytd(shots_fired)\n",
    "ytd_accidents = fn.compute_total_cfs_ytd(accidents)"
   ]
  }
 ],
 "metadata": {
  "language_info": {
   "name": "python"
  }
 },
 "nbformat": 4,
 "nbformat_minor": 5
}
