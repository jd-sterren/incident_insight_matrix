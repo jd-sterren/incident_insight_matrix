{
 "cells": [
  {
   "cell_type": "markdown",
   "id": "a3750ab2",
   "metadata": {},
   "source": [
    "## Calls For Service\n",
    "#### Questions to ask:\n",
    "<b>Descriptive Analysis</b>\n",
    "- What are the most common call types this year vs. last year?\n",
    "- What times of day see the highest volume of calls by shift?\n",
    "- Which addresses have the highest number of repeated calls?\n",
    "- What percentage of calls resulted in a report being taken or an arrest?\n",
    "\n",
    "<b>Trend & Comparative Analysis</b>\n",
    "- How do weekly call volumes compare to the same week last year and to the 5-year average?\n",
    "- Are we seeing a year-over-year increase in disturbance calls?\n",
    "- What are the call volume trends for mental health or overdose-related incidents?\n",
    "- How have reportable vs. non-reportable calls trended over time?\n",
    "- Is there an increase in traffic-related calls during certain weather events?\n",
    "\n",
    "<b>Spatial Analysis</b>\n",
    "- What are the top 10 hotspots by call volume in the past 7, 30, and 90 days?\n",
    "- Which areas have the highest concentration of violent crime calls?\n",
    "- Are there emerging hotspots not present in previous periods?\n",
    "\n",
    "<b>Operational Efficiency</b>\n",
    "- What is the average time between call creation and unit arrival for high-priority calls?\n",
    "- How many calls per shift are handled without report, arrest, or further follow-up?\n",
    "- Which call types consume the most officer time with least actionable outcome?\n",
    "- Are officers or shifts disproportionately handling more serious incidents?"
   ]
  },
  {
   "cell_type": "code",
   "execution_count": 1,
   "id": "90848f48",
   "metadata": {},
   "outputs": [
    {
     "data": {
      "text/plain": [
       "True"
      ]
     },
     "execution_count": 1,
     "metadata": {},
     "output_type": "execute_result"
    }
   ],
   "source": [
    "import os\n",
    "import pandas as pd\n",
    "import inc.functions as fn\n",
    "from inc.credential_manager import inject_decrypted_env, get_passphrase  # << New import\n",
    "import h3\n",
    "\n",
    "# Obtain the passphrase from hidden file or user input\n",
    "passphrase = get_passphrase()\n",
    "\n",
    "# Inject decrypted environment variables\n",
    "inject_decrypted_env(environment=\"prod\", passphrase=passphrase)"
   ]
  },
  {
   "cell_type": "markdown",
   "id": "1af15be2",
   "metadata": {},
   "source": [
    "### Production View"
   ]
  },
  {
   "cell_type": "code",
   "execution_count": null,
   "id": "2c7dd4b5",
   "metadata": {},
   "outputs": [],
   "source": [
    "cfs_df = fn.fetch_calls_for_service(ori=\"OH0760400\", start_date=fn.last_week(\"str\"), end_date=fn.yesterday(\"str\"), data_type=\"Stats\")"
   ]
  },
  {
   "cell_type": "markdown",
   "id": "03ad42d1",
   "metadata": {},
   "source": [
    "### Development View"
   ]
  },
  {
   "cell_type": "code",
   "execution_count": 2,
   "id": "09d740d3",
   "metadata": {},
   "outputs": [
    {
     "name": "stdout",
     "output_type": "stream",
     "text": [
      "No new data to process.\n"
     ]
    }
   ],
   "source": [
    "cfs_df = pd.read_excel(\"resources/cfs/CFS_data_2025-05-30.xlsx\")\n",
    "\n",
    "# Already done in fetch_calls_for_service\n",
    "# Process the DataFrame\n",
    "cfs_df = fn.preprocess_calls(cfs_df)\n",
    "fn.update_daily_summary(cfs_df, csv_filename=\"resources/cfs/call_type_daily_summary.csv\")"
   ]
  },
  {
   "cell_type": "code",
   "execution_count": 3,
   "id": "33bf5520",
   "metadata": {},
   "outputs": [],
   "source": [
    "cfs_df[\"Hex_ID_10\"] = cfs_df.apply(\n",
    "    lambda row: fn.safe_latlng_to_hex(row[\"LatitudeY\"], row[\"LongitudeX\"], resolution=10),\n",
    "    axis=1\n",
    ")\n",
    "cfs_df[\"Hex_ID_7\"] = cfs_df.apply(\n",
    "    lambda row: fn.safe_latlng_to_hex(row[\"LatitudeY\"], row[\"LongitudeX\"], resolution=7),\n",
    "    axis=1\n",
    ")"
   ]
  },
  {
   "cell_type": "markdown",
   "id": "2c0c7b97",
   "metadata": {},
   "source": [
    "## Questions"
   ]
  },
  {
   "cell_type": "markdown",
   "id": "756349d4",
   "metadata": {},
   "source": [
    "What are the most common call types this year vs. last year?"
   ]
  },
  {
   "cell_type": "code",
   "execution_count": 4,
   "id": "bca3f7d9",
   "metadata": {},
   "outputs": [
    {
     "name": "stdout",
     "output_type": "stream",
     "text": [
      "                   ThisYear  LastYear  Change  % Change\n",
      "CallType                                               \n",
      "Welfare Check          1278         0    1278  127800.0\n",
      "911 Hangup              985         0     985   98500.0\n",
      "Disturbance             784         0     784   78400.0\n",
      "Parking Complaint       633         0     633   63300.0\n",
      "Domestic                539         0     539   53900.0\n",
      "Alarm - Business        475         0     475   47500.0\n",
      "Accident                377         0     377   37700.0\n",
      "Suspicious Person       355         0     355   35500.0\n",
      "Theft                   337         0     337   33700.0\n",
      "Noise Complaint         287         0     287   28700.0\n"
     ]
    }
   ],
   "source": [
    "df = cfs_df.loc[(cfs_df['Reportable'] == True) & (cfs_df['ORI'] == \"OH0760400\")].copy()\n",
    "def most_common_call_types_this_vs_last_year(df, top_n=10):\n",
    "    df = df.copy()\n",
    "    df['LocalDatetime'] = pd.to_datetime(df['LocalDatetime'], errors='coerce')\n",
    "    df['Year'] = df['LocalDatetime'].dt.year\n",
    "\n",
    "    current_year = pd.Timestamp.today().year\n",
    "    last_year = current_year - 1\n",
    "\n",
    "    this_year_calls = (\n",
    "        df[df['Year'] == current_year]['CallType']\n",
    "        .value_counts()\n",
    "        .head(top_n)\n",
    "        .rename('ThisYear')\n",
    "    )\n",
    "\n",
    "    last_year_calls = (\n",
    "        df[df['Year'] == last_year]['CallType']\n",
    "        .value_counts()\n",
    "        .head(top_n)\n",
    "        .rename('LastYear')\n",
    "    )\n",
    "\n",
    "    # Combine both for comparison\n",
    "    comparison_df = pd.concat([this_year_calls, last_year_calls], axis=1).fillna(0).astype(int)\n",
    "    comparison_df['Change'] = comparison_df['ThisYear'] - comparison_df['LastYear']\n",
    "    comparison_df['% Change'] = ((comparison_df['Change'] / comparison_df['LastYear'].replace(0, 1)) * 100).round(1)\n",
    "\n",
    "    return comparison_df.sort_values(by='ThisYear', ascending=False)\n",
    "\n",
    "result = most_common_call_types_this_vs_last_year(df)\n",
    "print(result)"
   ]
  },
  {
   "cell_type": "markdown",
   "id": "e8b7f355",
   "metadata": {},
   "source": [
    "What times of day see the highest volume of calls by shift?"
   ]
  },
  {
   "cell_type": "code",
   "execution_count": 5,
   "id": "da187b69",
   "metadata": {},
   "outputs": [
    {
     "name": "stdout",
     "output_type": "stream",
     "text": [
      "Shift  1st Shift  2nd Shift  3rd Shift\n",
      "Hour                                  \n",
      "0            445          0          0\n",
      "1            354          0          0\n",
      "2            287          0          0\n",
      "3            262          0          0\n",
      "4            209          0          0\n",
      "5            165          0          0\n",
      "6              0        194          0\n",
      "7              0        309          0\n",
      "8              0        410          0\n",
      "9              0        509          0\n",
      "10             0        594          0\n",
      "11             0        616          0\n",
      "12             0        575          0\n",
      "13             0        668          0\n",
      "14             0          0        615\n",
      "15             0          0        648\n",
      "16             0          0        704\n",
      "17             0          0        652\n",
      "18             0          0        589\n",
      "19             0          0        629\n",
      "20             0          0        574\n",
      "21             0          0        562\n",
      "22           493          0          0\n",
      "23           489          0          0\n"
     ]
    }
   ],
   "source": [
    "def call_volume_by_hour_and_shift(df):\n",
    "    df = df.copy()\n",
    "    df['LocalDatetime'] = pd.to_datetime(df['LocalDatetime'], errors='coerce')\n",
    "    df['Hour'] = df['LocalDatetime'].dt.hour\n",
    "\n",
    "    # Ensure Shift is present or assign it\n",
    "    if 'Shift' not in df.columns:\n",
    "        df['Shift'] = df['LocalDatetime'].apply(fn.assign_shift)\n",
    "\n",
    "    # Group by Shift and Hour\n",
    "    grouped = df.groupby(['Shift', 'Hour']).size().reset_index(name='CallVolume')\n",
    "\n",
    "    # Pivot for better readability\n",
    "    pivot_table = grouped.pivot(index='Hour', columns='Shift', values='CallVolume').fillna(0).astype(int)\n",
    "\n",
    "    return pivot_table\n",
    "pivot = call_volume_by_hour_and_shift(df)\n",
    "print(pivot)"
   ]
  },
  {
   "cell_type": "markdown",
   "id": "c0bb5d2a",
   "metadata": {},
   "source": [
    "Which addresses have the highest number of repeated calls?"
   ]
  },
  {
   "cell_type": "code",
   "execution_count": 6,
   "id": "0a47a6f2",
   "metadata": {},
   "outputs": [
    {
     "name": "stdout",
     "output_type": "stream",
     "text": [
      "                         FullAddress  CallCount\n",
      "0                         Not Listed        286\n",
      "1                       3200 US 62          114\n",
      "2                700 MCKINLEY AVE NW         84\n",
      "3               4004 TUSCARAWAS ST W         82\n",
      "4                    200 HIGH AVE SW         52\n",
      "5                     2600 6TH ST SW         49\n",
      "6   100 SOMEWHERE IN THE CITY   &            46\n",
      "7                      131 5TH ST NE         43\n",
      "8                643 ALAN PAGE DR SE         40\n",
      "9               3131 TUSCARAWAS ST W         39\n",
      "10               319 TUSCARAWAS ST E         31\n",
      "11              2215 TUSCARAWAS ST E         31\n",
      "12                     221 3RD ST SW         30\n",
      "13              2210 TUSCARAWAS ST W         30\n",
      "14                 112 CHERRY AVE SE         30\n",
      "15                 1000 MARKET AVE N         29\n",
      "16                1114 GONDER AVE SE         29\n",
      "17                   1212 12TH ST NW         29\n",
      "18                   1700 55TH ST NE         28\n",
      "19                 626 WALNUT AVE NE         27\n"
     ]
    }
   ],
   "source": [
    "def top_repeat_call_addresses(df, top_n=20):\n",
    "    df = df.copy()\n",
    "    df['FullAddress'] = df['FullAddress'].fillna('Unknown')\n",
    "\n",
    "    # Count occurrences of each address\n",
    "    address_counts = df['FullAddress'].value_counts().reset_index()\n",
    "    address_counts.columns = ['FullAddress', 'CallCount']\n",
    "\n",
    "    # Return top N\n",
    "    return address_counts.head(top_n)\n",
    "repeat_calls = top_repeat_call_addresses(df)\n",
    "print(repeat_calls)\n"
   ]
  },
  {
   "cell_type": "markdown",
   "id": "7427fda5",
   "metadata": {},
   "source": [
    "What percentage of calls resulted in a report being taken or an arrest?"
   ]
  },
  {
   "cell_type": "code",
   "execution_count": 7,
   "id": "af5a51db",
   "metadata": {},
   "outputs": [
    {
     "name": "stdout",
     "output_type": "stream",
     "text": [
      "{'Total Calls': 11552, 'Report Taken %': 24.82, 'Arrest %': 5.14, 'Report or Arrest %': 26.46}\n"
     ]
    }
   ],
   "source": [
    "def percentage_report_or_arrest(df):\n",
    "    df = df.copy()\n",
    "    df['dispo'] = df['dispo'].fillna('').str.upper()\n",
    "\n",
    "    total_calls = len(df)\n",
    "    report_calls = df['dispo'].str.contains('REPORT TAKEN').sum()\n",
    "    arrest_calls = df['dispo'].str.contains('ARREST').sum()\n",
    "\n",
    "    # Avoid double-counting calls that include both\n",
    "    report_or_arrest_calls = df[\n",
    "        df['dispo'].str.contains('REPORT TAKEN') | df['dispo'].str.contains('ARREST')\n",
    "    ]\n",
    "\n",
    "    percent_report = (report_calls / total_calls) * 100\n",
    "    percent_arrest = (arrest_calls / total_calls) * 100\n",
    "    percent_combined = (len(report_or_arrest_calls) / total_calls) * 100\n",
    "\n",
    "    return {\n",
    "        \"Total Calls\": total_calls,\n",
    "        \"Report Taken %\": round(percent_report, 2),\n",
    "        \"Arrest %\": round(percent_arrest, 2),\n",
    "        \"Report or Arrest %\": round(percent_combined, 2)\n",
    "    }\n",
    "results = percentage_report_or_arrest(df)\n",
    "print(results)\n"
   ]
  },
  {
   "cell_type": "code",
   "execution_count": 9,
   "id": "941c5756",
   "metadata": {},
   "outputs": [
    {
     "name": "stdout",
     "output_type": "stream",
     "text": [
      "Insights: Significant increase in call types this year compared to last year, with percentage changes ranging from 28,700% to 127,800%. Trend indicates a potential rise in demand for police services. Command staff should assess resources and adjust deployment strategies accordingly.\n",
      "\n",
      "The data shows a significant disparity in call volume between the 1st shift and the 2nd/3rd shifts. The 2nd and 3rd shifts have consistently low call volumes, indicating a potential issue with resource allocation or demand forecasting. Command staff should investigate the reasons behind this trend and consider adjusting staffing levels accordingly.\n",
      "\n",
      "Insights from the \"Top Repeat Call Addresses\" section show that certain locations, such as 3200 US 62 and 700 MCKINLEY AVE NW, have a high number of calls. This could indicate areas with recurring issues that may require increased police presence or intervention. Command staff should consider allocating resources to address the underlying problems at these locations to reduce the frequency of calls and improve community safety.\n",
      "\n",
      "The report/arrest percentage shows that only 26.46% of total calls resulted in a report or arrest. This indicates a low rate of resolution for incidents reported to the police. Command staff should investigate reasons for low arrest rates and consider strategies to improve overall effectiveness in responding to calls.\n"
     ]
    }
   ],
   "source": [
    "def summarize_section(api_key, section_title, df_or_text):\n",
    "    from langchain_openai import ChatOpenAI\n",
    "    from langchain.chains import ConversationChain\n",
    "    from langchain.prompts import PromptTemplate\n",
    "    from langchain.memory import ConversationBufferMemory\n",
    "\n",
    "    if isinstance(df_or_text, pd.DataFrame):\n",
    "        data_str = df_or_text.to_string(index=False)\n",
    "    elif isinstance(df_or_text, dict):\n",
    "        data_str = \"\\n\".join(f\"{k}: {v}\" for k, v in df_or_text.items())\n",
    "    else:\n",
    "        data_str = str(df_or_text)\n",
    "\n",
    "    prompt_template = PromptTemplate(\n",
    "        input_variables=[\"history\", \"input\"],\n",
    "        template=f\"\"\"You are a police analyst assistant. Provide a concise summary of the following section titled \"{section_title}\".\n",
    "Focus on insights, trends, or red flags for command staff. Keep your summary under 100 words.\n",
    "\n",
    "Conversation history:\n",
    "{{history}}\n",
    "\n",
    "Human: {{input}}\n",
    "AI:\"\"\"\n",
    "    )\n",
    "\n",
    "    chain = ConversationChain(\n",
    "        llm=ChatOpenAI(openai_api_key=api_key, model_name=\"gpt-3.5-turbo\", temperature=0.3),\n",
    "        memory=ConversationBufferMemory(),\n",
    "        prompt=prompt_template\n",
    "    )\n",
    "\n",
    "    input_text = f\"Section Title: {section_title}\\nData:\\n{data_str}\"\n",
    "    return chain.run(input_text)\n",
    "\n",
    "api_key = os.environ['OPEN_API_KEY']\n",
    "\n",
    "summaries = []\n",
    "summaries.append(summarize_section(api_key, \"Call Types This Year vs. Last Year\", most_common_call_types_this_vs_last_year(df)))\n",
    "summaries.append(summarize_section(api_key, \"Hourly Call Volume by Shift\", call_volume_by_hour_and_shift(df)))\n",
    "summaries.append(summarize_section(api_key, \"Top Repeat Call Addresses\", top_repeat_call_addresses(df)))\n",
    "summaries.append(summarize_section(api_key, \"Report/Arrest Percentage\", percentage_report_or_arrest(df)))\n",
    "\n",
    "final_report = \"\\n\\n\".join(summaries)\n",
    "print(final_report)\n"
   ]
  },
  {
   "cell_type": "markdown",
   "id": "8fe8f4f1",
   "metadata": {},
   "source": [
    "### Break out specifics"
   ]
  },
  {
   "cell_type": "code",
   "execution_count": 10,
   "id": "6d6140c3",
   "metadata": {},
   "outputs": [],
   "source": [
    "# Loads the daily summary of calltypes to ORI and Date\n",
    "df_summary = fn.load_summary_data()\n",
    "\n",
    "# Add call types to the Summary Data to focus on Reportable calls only\n",
    "cfs_types = pd.read_excel(\"resources/cfs/lib_call_types.xlsx\", usecols=[\"CallType\",\"Reportable\",\"CodeType\"])\n",
    "df_summary = df_summary.merge(cfs_types, on=\"CallType\", how=\"left\")\n",
    "df_summary_reportable = df_summary.loc[df_summary['Reportable'] == True].copy()\n",
    "\n",
    "# analyze the data and cluster by call type\n",
    "traffic_stops = df_summary.loc[df_summary['CallType'] == 'Traffic Stop'].copy()\n",
    "shots_fired = df_summary.loc[df_summary['CallType'] == 'Shots Fired'].copy()\n",
    "accidents = df_summary.loc[df_summary['CallType'].str.contains('Accident')].copy()\n",
    "\n",
    "past_10_weeks = fn.compute_total_cfs_past_10_weeks(df_summary_reportable)\n",
    "\n",
    "ytd_cfs = fn.compute_total_cfs_ytd(df_summary_reportable)\n",
    "ytd_traffic_stops = fn.compute_total_cfs_ytd(traffic_stops)\n",
    "ytd_shots_fired = fn.compute_total_cfs_ytd(shots_fired)\n",
    "ytd_accidents = fn.compute_total_cfs_ytd(accidents)"
   ]
  },
  {
   "cell_type": "code",
   "execution_count": 11,
   "id": "efeb3c99",
   "metadata": {},
   "outputs": [
    {
     "data": {
      "text/html": [
       "<div>\n",
       "<style scoped>\n",
       "    .dataframe tbody tr th:only-of-type {\n",
       "        vertical-align: middle;\n",
       "    }\n",
       "\n",
       "    .dataframe tbody tr th {\n",
       "        vertical-align: top;\n",
       "    }\n",
       "\n",
       "    .dataframe thead th {\n",
       "        text-align: right;\n",
       "    }\n",
       "</style>\n",
       "<table border=\"1\" class=\"dataframe\">\n",
       "  <thead>\n",
       "    <tr style=\"text-align: right;\">\n",
       "      <th>Shift</th>\n",
       "      <th>1st Shift</th>\n",
       "      <th>2nd Shift</th>\n",
       "      <th>3rd Shift</th>\n",
       "    </tr>\n",
       "    <tr>\n",
       "      <th>CallType</th>\n",
       "      <th></th>\n",
       "      <th></th>\n",
       "      <th></th>\n",
       "    </tr>\n",
       "  </thead>\n",
       "  <tbody>\n",
       "    <tr>\n",
       "      <th>911 Hangup</th>\n",
       "      <td>1981</td>\n",
       "      <td>2005</td>\n",
       "      <td>2097</td>\n",
       "    </tr>\n",
       "    <tr>\n",
       "      <th>ATV Complaint</th>\n",
       "      <td>119</td>\n",
       "      <td>158</td>\n",
       "      <td>757</td>\n",
       "    </tr>\n",
       "    <tr>\n",
       "      <th>Abandoned Vehicle</th>\n",
       "      <td>147</td>\n",
       "      <td>1049</td>\n",
       "      <td>654</td>\n",
       "    </tr>\n",
       "    <tr>\n",
       "      <th>Abuse/Neglect</th>\n",
       "      <td>49</td>\n",
       "      <td>96</td>\n",
       "      <td>125</td>\n",
       "    </tr>\n",
       "    <tr>\n",
       "      <th>Accident</th>\n",
       "      <td>680</td>\n",
       "      <td>1664</td>\n",
       "      <td>1840</td>\n",
       "    </tr>\n",
       "    <tr>\n",
       "      <th>...</th>\n",
       "      <td>...</td>\n",
       "      <td>...</td>\n",
       "      <td>...</td>\n",
       "    </tr>\n",
       "    <tr>\n",
       "      <th>Vehicle - Unauthorized Use</th>\n",
       "      <td>187</td>\n",
       "      <td>312</td>\n",
       "      <td>325</td>\n",
       "    </tr>\n",
       "    <tr>\n",
       "      <th>Violation of Order</th>\n",
       "      <td>60</td>\n",
       "      <td>150</td>\n",
       "      <td>249</td>\n",
       "    </tr>\n",
       "    <tr>\n",
       "      <th>Warrant Arrest</th>\n",
       "      <td>342</td>\n",
       "      <td>700</td>\n",
       "      <td>695</td>\n",
       "    </tr>\n",
       "    <tr>\n",
       "      <th>Warrant/Civil Process</th>\n",
       "      <td>20</td>\n",
       "      <td>82</td>\n",
       "      <td>43</td>\n",
       "    </tr>\n",
       "    <tr>\n",
       "      <th>Welfare Check</th>\n",
       "      <td>1911</td>\n",
       "      <td>2047</td>\n",
       "      <td>2094</td>\n",
       "    </tr>\n",
       "  </tbody>\n",
       "</table>\n",
       "<p>102 rows × 3 columns</p>\n",
       "</div>"
      ],
      "text/plain": [
       "Shift                       1st Shift  2nd Shift  3rd Shift\n",
       "CallType                                                   \n",
       "911 Hangup                       1981       2005       2097\n",
       "ATV Complaint                     119        158        757\n",
       "Abandoned Vehicle                 147       1049        654\n",
       "Abuse/Neglect                      49         96        125\n",
       "Accident                          680       1664       1840\n",
       "...                               ...        ...        ...\n",
       "Vehicle - Unauthorized Use        187        312        325\n",
       "Violation of Order                 60        150        249\n",
       "Warrant Arrest                    342        700        695\n",
       "Warrant/Civil Process              20         82         43\n",
       "Welfare Check                    1911       2047       2094\n",
       "\n",
       "[102 rows x 3 columns]"
      ]
     },
     "execution_count": 11,
     "metadata": {},
     "output_type": "execute_result"
    }
   ],
   "source": [
    "df_summary_reportable.groupby([\"CallType\",\"Shift\"]).size().unstack(fill_value=0)"
   ]
  },
  {
   "cell_type": "code",
   "execution_count": null,
   "id": "a17fd39a",
   "metadata": {},
   "outputs": [],
   "source": []
  }
 ],
 "metadata": {
  "kernelspec": {
   "display_name": "gideon",
   "language": "python",
   "name": "python3"
  },
  "language_info": {
   "codemirror_mode": {
    "name": "ipython",
    "version": 3
   },
   "file_extension": ".py",
   "mimetype": "text/x-python",
   "name": "python",
   "nbconvert_exporter": "python",
   "pygments_lexer": "ipython3",
   "version": "3.10.16"
  }
 },
 "nbformat": 4,
 "nbformat_minor": 5
}
